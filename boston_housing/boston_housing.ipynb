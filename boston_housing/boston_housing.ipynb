{
 "cells": [
  {
   "cell_type": "markdown",
   "metadata": {},
   "source": [
    "# Machine Learning Engineer Nanodegree\n",
    "## Model Evaluation & Validation\n",
    "## Project: Predicting Boston Housing Prices\n"
   ]
  },
  {
   "cell_type": "markdown",
   "metadata": {},
   "source": [
    "## Getting Started\n",
    "In this project, there will be evaluated the performance and predictive power of a model that has been trained and tested on data collected from homes in suburbs of Boston, Massachusetts. A model trained on this data that is seen as a *good fit* could then be used to make certain predictions about a home — in particular, its monetary value. This model would prove to be invaluable for someone like a real estate agent who could make use of such information on a daily basis.\n",
    "\n",
    "The dataset for this project originates from the [UCI Machine Learning Repository](https://archive.ics.uci.edu/ml/datasets/Housing). The Boston housing data was collected in 1978 and each of the 506 entries represent aggregated data about 14 features for homes from various suburbs in Boston, Massachusetts. For the purposes of this project, the following preprocessing steps have been made to the dataset:\n",
    "- 16 data points have an `'MEDV'` value of 50.0. These data points likely contain **missing or censored values** and have been removed.\n",
    "- 1 data point has an `'RM'` value of 8.78. This data point can be considered an **outlier** and has been removed.\n",
    "- The features `'RM'`, `'LSTAT'`, `'PTRATIO'`, and `'MEDV'` are essential. The remaining **non-relevant features** have been excluded.\n",
    "- The feature `'MEDV'` has been **multiplicatively scaled** to account for 35 years of market inflation.\n"
   ]
  },
  {
   "cell_type": "code",
   "execution_count": 7,
   "metadata": {},
   "outputs": [
    {
     "name": "stdout",
     "output_type": "stream",
     "text": [
      "Boston housing dataset has 1460 data points with 81 variables each.\n"
     ]
    }
   ],
   "source": [
    "# Import libraries necessary for this project\n",
    "import numpy as np\n",
    "import pandas as pd\n",
    "from sklearn.model_selection import ShuffleSplit\n",
    "\n",
    "# Import supplementary visualizations code visuals.py\n",
    "import visuals as vs\n",
    "\n",
    "# Pretty display for notebooks\n",
    "%matplotlib inline\n",
    "\n",
    "# Load the Boston housing dataset\n",
    "data = pd.read_csv('train.csv')\n",
    "prices = data['SalePrice']\n",
    "features = data.drop('SalePrice', axis = 1)\n",
    "features = data[['LotFrontage','LotArea','OverallQual','OverallCond','YearBuilt','YearRemodAdd','FullBath','HalfBath','BedroomAbvGr','GarageCars','GarageArea','WoodDeckSF','OpenPorchSF','EnclosedPorch','3SsnPorch','ScreenPorch','PoolArea','MiscVal','MoSold','YrSold']]\n",
    "    \n",
    "# Success\n",
    "print(\"Boston housing dataset has {} data points with {} variables each.\".format(*data.shape))\n"
   ]
  },
  {
   "cell_type": "code",
   "execution_count": 23,
   "metadata": {},
   "outputs": [
    {
     "name": "stdout",
     "output_type": "stream",
     "text": [
      "      LotFrontage  LotArea  OverallQual  OverallCond  YearBuilt  YearRemodAdd  \\\n",
      "0            65.0     8450            7            5       2003          2003   \n",
      "1            80.0     9600            6            8       1976          1976   \n",
      "2            68.0    11250            7            5       2001          2002   \n",
      "3            60.0     9550            7            5       1915          1970   \n",
      "4            84.0    14260            8            5       2000          2000   \n",
      "5            85.0    14115            5            5       1993          1995   \n",
      "6            75.0    10084            8            5       2004          2005   \n",
      "7             0.0    10382            7            6       1973          1973   \n",
      "8            51.0     6120            7            5       1931          1950   \n",
      "9            50.0     7420            5            6       1939          1950   \n",
      "10           70.0    11200            5            5       1965          1965   \n",
      "11           85.0    11924            9            5       2005          2006   \n",
      "12            0.0    12968            5            6       1962          1962   \n",
      "13           91.0    10652            7            5       2006          2007   \n",
      "14            0.0    10920            6            5       1960          1960   \n",
      "15           51.0     6120            7            8       1929          2001   \n",
      "16            0.0    11241            6            7       1970          1970   \n",
      "17           72.0    10791            4            5       1967          1967   \n",
      "18           66.0    13695            5            5       2004          2004   \n",
      "19           70.0     7560            5            6       1958          1965   \n",
      "20          101.0    14215            8            5       2005          2006   \n",
      "21           57.0     7449            7            7       1930          1950   \n",
      "22           75.0     9742            8            5       2002          2002   \n",
      "23           44.0     4224            5            7       1976          1976   \n",
      "24            0.0     8246            5            8       1968          2001   \n",
      "25          110.0    14230            8            5       2007          2007   \n",
      "26           60.0     7200            5            7       1951          2000   \n",
      "27           98.0    11478            8            5       2007          2008   \n",
      "28           47.0    16321            5            6       1957          1997   \n",
      "29           60.0     6324            4            6       1927          1950   \n",
      "...           ...      ...          ...          ...        ...           ...   \n",
      "1430         60.0    21930            5            5       2005          2005   \n",
      "1431          0.0     4928            6            6       1976          1976   \n",
      "1432         60.0    10800            4            6       1927          2007   \n",
      "1433         93.0    10261            6            5       2000          2000   \n",
      "1434         80.0    17400            5            5       1977          1977   \n",
      "1435         80.0     8400            6            9       1962          2005   \n",
      "1436         60.0     9000            4            6       1971          1971   \n",
      "1437         96.0    12444            8            5       2008          2008   \n",
      "1438         90.0     7407            6            7       1957          1996   \n",
      "1439         80.0    11584            7            6       1979          1979   \n",
      "1440         79.0    11526            6            7       1922          1994   \n",
      "1441          0.0     4426            6            5       2004          2004   \n",
      "1442         85.0    11003           10            5       2008          2008   \n",
      "1443          0.0     8854            6            6       1916          1950   \n",
      "1444         63.0     8500            7            5       2004          2004   \n",
      "1445         70.0     8400            6            5       1966          1966   \n",
      "1446          0.0    26142            5            7       1962          1962   \n",
      "1447         80.0    10000            8            5       1995          1996   \n",
      "1448         70.0    11767            4            7       1910          2000   \n",
      "1449         21.0     1533            5            7       1970          1970   \n",
      "1450         60.0     9000            5            5       1974          1974   \n",
      "1451         78.0     9262            8            5       2008          2009   \n",
      "1452         35.0     3675            5            5       2005          2005   \n",
      "1453         90.0    17217            5            5       2006          2006   \n",
      "1454         62.0     7500            7            5       2004          2005   \n",
      "1455         62.0     7917            6            5       1999          2000   \n",
      "1456         85.0    13175            6            6       1978          1988   \n",
      "1457         66.0     9042            7            9       1941          2006   \n",
      "1458         68.0     9717            5            6       1950          1996   \n",
      "1459         75.0     9937            5            6       1965          1965   \n",
      "\n",
      "      FullBath  HalfBath  BedroomAbvGr  GarageCars  GarageArea  WoodDeckSF  \\\n",
      "0            2         1             3           2         548           0   \n",
      "1            2         0             3           2         460         298   \n",
      "2            2         1             3           2         608           0   \n",
      "3            1         0             3           3         642           0   \n",
      "4            2         1             4           3         836         192   \n",
      "5            1         1             1           2         480          40   \n",
      "6            2         0             3           2         636         255   \n",
      "7            2         1             3           2         484         235   \n",
      "8            2         0             2           2         468          90   \n",
      "9            1         0             2           1         205           0   \n",
      "10           1         0             3           1         384           0   \n",
      "11           3         0             4           3         736         147   \n",
      "12           1         0             2           1         352         140   \n",
      "13           2         0             3           3         840         160   \n",
      "14           1         1             2           1         352           0   \n",
      "15           1         0             2           2         576          48   \n",
      "16           1         0             2           2         480           0   \n",
      "17           2         0             2           2         516           0   \n",
      "18           1         1             3           2         576           0   \n",
      "19           1         0             3           1         294           0   \n",
      "20           3         1             4           3         853         240   \n",
      "21           1         0             3           1         280           0   \n",
      "22           2         0             3           2         534         171   \n",
      "23           1         0             3           2         572         100   \n",
      "24           1         0             3           1         270         406   \n",
      "25           2         0             3           3         890           0   \n",
      "26           1         0             3           2         576         222   \n",
      "27           2         0             3           3         772           0   \n",
      "28           1         0             2           1         319         288   \n",
      "29           1         0             1           1         240          49   \n",
      "...        ...       ...           ...         ...         ...         ...   \n",
      "1430         2         1             4           2         372         100   \n",
      "1431         2         0             2           2         440           0   \n",
      "1432         2         0             4           1         216           0   \n",
      "1433         2         1             3           2         451           0   \n",
      "1434         2         0             3           2         484         295   \n",
      "1435         1         1             3           2         462           0   \n",
      "1436         1         0             3           2         528           0   \n",
      "1437         2         0             2           3         774           0   \n",
      "1438         1         0             2           2         923           0   \n",
      "1439         2         1             3           2         550           0   \n",
      "1440         2         0             3           2         672         431   \n",
      "1441         1         0             1           2         420         149   \n",
      "1442         2         1             3           3         812         168   \n",
      "1443         1         0             2           1         192           0   \n",
      "1444         2         0             3           2         626         192   \n",
      "1445         1         0             3           1         240           0   \n",
      "1446         1         0             3           1         312         261   \n",
      "1447         2         1             3           2         556           0   \n",
      "1448         1         1             2           1         384         168   \n",
      "1449         1         0             1           0           0           0   \n",
      "1450         2         2             4           0           0          32   \n",
      "1451         2         0             3           3         840           0   \n",
      "1452         1         0             2           2         525           0   \n",
      "1453         1         0             3           0           0          36   \n",
      "1454         2         0             2           2         400           0   \n",
      "1455         2         1             3           2         460           0   \n",
      "1456         2         0             3           2         500         349   \n",
      "1457         2         0             4           1         252           0   \n",
      "1458         1         0             2           1         240         366   \n",
      "1459         1         1             3           1         276         736   \n",
      "\n",
      "      OpenPorchSF  EnclosedPorch  3SsnPorch  ScreenPorch  PoolArea  MiscVal  \\\n",
      "0              61              0          0            0         0        0   \n",
      "1               0              0          0            0         0        0   \n",
      "2              42              0          0            0         0        0   \n",
      "3              35            272          0            0         0        0   \n",
      "4              84              0          0            0         0        0   \n",
      "5              30              0        320            0         0      700   \n",
      "6              57              0          0            0         0        0   \n",
      "7             204            228          0            0         0      350   \n",
      "8               0            205          0            0         0        0   \n",
      "9               4              0          0            0         0        0   \n",
      "10              0              0          0            0         0        0   \n",
      "11             21              0          0            0         0        0   \n",
      "12              0              0          0          176         0        0   \n",
      "13             33              0          0            0         0        0   \n",
      "14            213            176          0            0         0        0   \n",
      "15            112              0          0            0         0        0   \n",
      "16              0              0          0            0         0      700   \n",
      "17              0              0          0            0         0      500   \n",
      "18            102              0          0            0         0        0   \n",
      "19              0              0          0            0         0        0   \n",
      "20            154              0          0            0         0        0   \n",
      "21              0            205          0            0         0        0   \n",
      "22            159              0          0            0         0        0   \n",
      "23            110              0          0            0         0        0   \n",
      "24             90              0          0            0         0        0   \n",
      "25             56              0          0            0         0        0   \n",
      "26             32              0          0            0         0        0   \n",
      "27             50              0          0            0         0        0   \n",
      "28            258              0          0            0         0        0   \n",
      "29              0             87          0            0         0        0   \n",
      "...           ...            ...        ...          ...       ...      ...   \n",
      "1430           40              0          0            0         0        0   \n",
      "1431           60              0          0            0         0        0   \n",
      "1432            0              0          0            0         0        0   \n",
      "1433            0              0          0            0         0        0   \n",
      "1434           41              0          0            0         0        0   \n",
      "1435           36              0          0            0         0        0   \n",
      "1436            0              0          0            0         0        0   \n",
      "1437           66              0        304            0         0        0   \n",
      "1438          158            158          0            0         0        0   \n",
      "1439           88            216          0            0         0        0   \n",
      "1440            0              0          0            0         0        0   \n",
      "1441            0              0          0            0         0        0   \n",
      "1442           52              0          0            0         0        0   \n",
      "1443           98              0          0           40         0        0   \n",
      "1444           60              0          0            0         0        0   \n",
      "1445            0            252          0            0         0        0   \n",
      "1446           39              0          0            0         0        0   \n",
      "1447           65              0          0            0         0        0   \n",
      "1448           24              0          0            0         0        0   \n",
      "1449            0              0          0            0         0        0   \n",
      "1450           45              0          0            0         0        0   \n",
      "1451           36              0          0            0         0        0   \n",
      "1452           28              0          0            0         0        0   \n",
      "1453           56              0          0            0         0        0   \n",
      "1454          113              0          0            0         0        0   \n",
      "1455           40              0          0            0         0        0   \n",
      "1456            0              0          0            0         0        0   \n",
      "1457           60              0          0            0         0     2500   \n",
      "1458            0            112          0            0         0        0   \n",
      "1459           68              0          0            0         0        0   \n",
      "\n",
      "      MoSold  YrSold  \n",
      "0          2    2008  \n",
      "1          5    2007  \n",
      "2          9    2008  \n",
      "3          2    2006  \n",
      "4         12    2008  \n",
      "5         10    2009  \n",
      "6          8    2007  \n",
      "7         11    2009  \n",
      "8          4    2008  \n",
      "9          1    2008  \n",
      "10         2    2008  \n",
      "11         7    2006  \n",
      "12         9    2008  \n",
      "13         8    2007  \n",
      "14         5    2008  \n",
      "15         7    2007  \n",
      "16         3    2010  \n",
      "17        10    2006  \n",
      "18         6    2008  \n",
      "19         5    2009  \n",
      "20        11    2006  \n",
      "21         6    2007  \n",
      "22         9    2008  \n",
      "23         6    2007  \n",
      "24         5    2010  \n",
      "25         7    2009  \n",
      "26         5    2010  \n",
      "27         5    2010  \n",
      "28        12    2006  \n",
      "29         5    2008  \n",
      "...      ...     ...  \n",
      "1430       7    2006  \n",
      "1431      10    2009  \n",
      "1432       8    2007  \n",
      "1433       5    2008  \n",
      "1434       5    2006  \n",
      "1435       7    2008  \n",
      "1436       5    2007  \n",
      "1437      11    2008  \n",
      "1438       4    2010  \n",
      "1439      11    2007  \n",
      "1440       9    2008  \n",
      "1441       5    2008  \n",
      "1442       4    2009  \n",
      "1443       5    2009  \n",
      "1444      11    2007  \n",
      "1445       5    2007  \n",
      "1446       4    2010  \n",
      "1447      12    2007  \n",
      "1448       5    2007  \n",
      "1449       8    2006  \n",
      "1450       9    2009  \n",
      "1451       5    2009  \n",
      "1452       5    2006  \n",
      "1453       7    2006  \n",
      "1454      10    2009  \n",
      "1455       8    2007  \n",
      "1456       2    2010  \n",
      "1457       5    2010  \n",
      "1458       4    2010  \n",
      "1459       6    2008  \n",
      "\n",
      "[1460 rows x 20 columns]\n"
     ]
    }
   ],
   "source": [
    "features = features.fillna(0)\n",
    "print(features)"
   ]
  },
  {
   "cell_type": "markdown",
   "metadata": {},
   "source": [
    "## Data Exploration\n",
    "\n",
    "This dataset is very powerful, because it has 80 features.\n",
    "\n",
    "In this first section of this project, I will make a cursory investigation about the Boston housing data and provide my observations.\n",
    "\n",
    "Since the main goal of this project is to construct a working model which has the capability of predicting the value of houses, we will need to separate the dataset into **features** and the **target variable**. The **features**, `'RM'`, `'LSTAT'`, and `'PTRATIO'`, give us quantitative information about each data point. The **target variable**, `'MEDV'`, will be the variable we seek to predict. These are stored in `features` and `prices`, respectively."
   ]
  },
  {
   "cell_type": "markdown",
   "metadata": {},
   "source": [
    "### Implementation: Calculate Statistics"
   ]
  },
  {
   "cell_type": "code",
   "execution_count": 3,
   "metadata": {},
   "outputs": [
    {
     "data": {
      "text/plain": [
       "34900"
      ]
     },
     "execution_count": 3,
     "metadata": {},
     "output_type": "execute_result"
    }
   ],
   "source": [
    "np.amin(prices)"
   ]
  },
  {
   "cell_type": "code",
   "execution_count": 9,
   "metadata": {},
   "outputs": [
    {
     "name": "stdout",
     "output_type": "stream",
     "text": [
      "Statistics for housing dataset:\n",
      "\n",
      "Minimum price: $34900\n",
      "Maximum price: $755000\n",
      "Mean price: $180921.19589041095\n",
      "Median price $163000.0\n",
      "Standard deviation of prices: $79415.29188606751\n"
     ]
    }
   ],
   "source": [
    "# Minimum price of the data\n",
    "minimum_price = np.amin(prices)\n",
    "\n",
    "# Maximum price of the data\n",
    "maximum_price = np.amax(prices)\n",
    "\n",
    "# Mean price of the data\n",
    "mean_price = np.mean(prices)\n",
    "\n",
    "# Median price of the data\n",
    "median_price = np.median(prices)\n",
    "\n",
    "# Standard deviation of prices of the data\n",
    "std_price = np.std(prices)\n",
    "\n",
    "# Show the calculated statistics\n",
    "print(\"Statistics for housing dataset:\\n\")\n",
    "print(\"Minimum price: ${}\".format(minimum_price)) \n",
    "print(\"Maximum price: ${}\".format(maximum_price))\n",
    "print(\"Mean price: ${}\".format(mean_price))\n",
    "print(\"Median price ${}\".format(median_price))\n",
    "print(\"Standard deviation of prices: ${}\".format(std_price))"
   ]
  },
  {
   "cell_type": "markdown",
   "metadata": {},
   "source": [
    "## Feature Observation\n",
    "\n",
    "As a reminder, we are using three features from the Boston housing dataset: `'RM'`, `'LSTAT'`, and `'PTRATIO'`. For each data point (neighborhood):\n",
    "- `'RM'` is the average number of rooms among homes in the neighborhood.\n",
    "- `'LSTAT'` is the percentage of homeowners in the neighborhood considered \"lower class\" (working poor).\n",
    "- `'PTRATIO'` is the ratio of students to teachers in primary and secondary schools in the neighborhood."
   ]
  },
  {
   "cell_type": "markdown",
   "metadata": {},
   "source": [
    "Intuitively, for each feature I would predict the following:\n",
    "\n",
    "    - Houses with more rooms (higher 'RM' value) will be worth more. Usually houses with more rooms are bigger and can fit more people, so it is reasonable that they cost more money. They are directly proportional variables.\n",
    "    \n",
    "    - Neighborhoods with more lower class workers (higher 'LSTAT' value) will be worth less. If the percentage of lower working class people is higher, it is likely that they have low purchasing power and therefore, they houses will cost less. They are inversely proportional variables.\n",
    "    \n",
    "    - Neighborhoods with more students to teachers ratio (higher 'PTRATIO' value) will be worth less. If the percentage of students to teachers ratio people is higher, it is likely that in the neighborhood there are less schools, this could be because there is less taxes income which could be because in that neighborhood people earn less money. If people earn less money it is likely that their houses are worth less. They are inversely proportional variables."
   ]
  },
  {
   "cell_type": "markdown",
   "metadata": {},
   "source": [
    "----\n",
    "\n",
    "## Developing a Model\n",
    "In this second section of the project, I will develop the tools and techniques necessary for a model to make a prediction. Being able to make accurate evaluations of each model's performance through the use of these tools and techniques helps to greatly reinforce the confidence in your predictions."
   ]
  },
  {
   "cell_type": "markdown",
   "metadata": {},
   "source": [
    "### Implementation: Define a Performance Metric\n",
    "It is difficult to measure the quality of a given model without quantifying its performance over training and testing. This is typically done using some type of performance metric, whether it is through calculating some type of error, the goodness of fit, or some other useful measurement. For this project, you I ill be calculating the [*coefficient of determination*](http://stattrek.com/statistics/dictionary.aspx?definition=coefficient_of_determination), R<sup>2</sup>, to quantify the model's performance. The coefficient of determination for a model is a useful statistic in regression analysis, as it often describes how \"good\" that model is at making predictions. \n",
    "\n",
    "The values for R<sup>2</sup> range from 0 to 1, which captures the percentage of squared correlation between the predicted and actual values of the **target variable**. A model with an R<sup>2</sup> of 0 is no better than a model that always predicts the *mean* of the target variable, whereas a model with an R<sup>2</sup> of 1 perfectly predicts the target variable. Any value between 0 and 1 indicates what percentage of the target variable, using this model, can be explained by the **features**. _A model can be given a negative R<sup>2</sup> as well, which indicates that the model is **arbitrarily worse** than one that always predicts the mean of the target variable._"
   ]
  },
  {
   "cell_type": "code",
   "execution_count": 24,
   "metadata": {},
   "outputs": [],
   "source": [
    "# Import 'r2_score'\n",
    "\n",
    "from sklearn.metrics import r2_score\n",
    "\n",
    "def performance_metric(y_true, y_predict):\n",
    "    \"\"\" Calculates and returns the performance score between \n",
    "        true and predicted values based on the metric chosen. \"\"\"\n",
    "    \n",
    "    # TODO: Calculate the performance score between 'y_true' and 'y_predict'\n",
    "    score = r2_score(y_true, y_predict)\n",
    "    \n",
    "    # Return the score\n",
    "    return score"
   ]
  },
  {
   "cell_type": "markdown",
   "metadata": {},
   "source": [
    "### Implementation: Shuffle and Split Data\n",
    "For the next implementation it is required to take the Boston housing dataset and split the data into training and testing subsets. Typically, the data is also shuffled into a random order when creating the training and testing subsets to remove any bias in the ordering of the dataset."
   ]
  },
  {
   "cell_type": "code",
   "execution_count": 25,
   "metadata": {},
   "outputs": [
    {
     "name": "stdout",
     "output_type": "stream",
     "text": [
      "Training and testing split was successful.\n"
     ]
    }
   ],
   "source": [
    "# Import 'train_test_split'\n",
    "from sklearn.model_selection import train_test_split\n",
    "\n",
    "# Shuffle and split the data into training and testing subsets\n",
    "X_train, X_test, y_train, y_test = train_test_split(features, prices, test_size=0.2, random_state = 42)\n",
    "\n",
    "# Success\n",
    "print(\"Training and testing split was successful.\")"
   ]
  },
  {
   "cell_type": "markdown",
   "metadata": {},
   "source": [
    "### Training and Testing\n",
    "\n",
    "You may ask now:\n",
    "\n",
    "* What is the benefit to splitting a dataset into some ratio of training and testing subsets for a learning algorithm?"
   ]
  },
  {
   "cell_type": "markdown",
   "metadata": {},
   "source": [
    "It is useful to evaluate our model once it is trained. We want to know if it has learned properly from a training split of the data. There can be 3 different situations:\n",
    "\n",
    "1) The model didn´t learn well on the data, and can't predict even the outcomes of the training set, this is called underfitting and it is caused because a high bias.\n",
    "\n",
    "2) The model learn too well the training data, up to the point that it memorized it and is not able to generalize on new data, thisi is called overfitting, it is caused because high variance.\n",
    "\n",
    "3) The model just had the right balance between bias and variance, it learned well and is able predict correctly the outcomes on new data."
   ]
  },
  {
   "cell_type": "markdown",
   "metadata": {},
   "source": [
    "----\n",
    "\n",
    "## Analyzing Model Performance\n",
    "In this third section of the project, we'll take a look at several models' learning and testing performances on various subsets of training data. Additionally, we'll investigate one particular algorithm with an increasing `'max_depth'` parameter on the full training set to observe how model complexity affects performance. Graphing the model's performance based on varying criteria can be beneficial in the analysis process, such as visualizing behavior that may not have been apparent from the results alone."
   ]
  },
  {
   "cell_type": "markdown",
   "metadata": {},
   "source": [
    "### Learning Curves\n",
    "The following code cell produces four graphs for a decision tree model with different maximum depths. Each graph visualizes the learning curves of the model for both training and testing as the size of the training set is increased. Note that the shaded region of a learning curve denotes the uncertainty of that curve (measured as the standard deviation). The model is scored on both the training and testing sets using R<sup>2</sup>, the coefficient of determination.  "
   ]
  },
  {
   "cell_type": "code",
   "execution_count": 26,
   "metadata": {
    "scrolled": false
   },
   "outputs": [
    {
     "data": {
      "image/png": "[encoded data removed]",
      "text/plain": [
       "<Figure size 720x504 with 4 Axes>"
      ]
     },
     "metadata": {
      "needs_background": "light"
     },
     "output_type": "display_data"
    }
   ],
   "source": [
    "# Produce learning curves for varying training set sizes and maximum depths\n",
    "vs.ModelLearning(features, prices)"
   ]
  },
  {
   "cell_type": "markdown",
   "metadata": {},
   "source": [
    "### Learning the Data"
   ]
  },
  {
   "cell_type": "markdown",
   "metadata": {},
   "source": [
    "If we take a close look at the graph with the max depth of 3:\n",
    "\n",
    "- As the number of training points increases, the training score decreases. In contrast, the test score increases.\n",
    "\n",
    "- As both scores (training and testing) tend to converge, from the 300 points treshold, having more training points will not benefit the model.\n",
    "\n",
    "- (Extra question): In general, with more columns for each observation, we'll get more information and the model will be able to learn better from the dataset and therefore, make better predictions."
   ]
  },
  {
   "cell_type": "markdown",
   "metadata": {},
   "source": [
    "### Complexity Curves\n",
    "The following code cell produces a graph for a decision tree model that has been trained and validated on the training data using different maximum depths. The graph produces two complexity curves — one for training and one for validation. Similar to the **learning curves**, the shaded regions of both the complexity curves denote the uncertainty in those curves, and the model is scored on both the training and validation sets using the `performance_metric` function.  "
   ]
  },
  {
   "cell_type": "code",
   "execution_count": 28,
   "metadata": {},
   "outputs": [
    {
     "data": {
      "image/png": "[encoded data removed]",
      "text/plain": [
       "<Figure size 504x360 with 1 Axes>"
      ]
     },
     "metadata": {
      "needs_background": "light"
     },
     "output_type": "display_data"
    }
   ],
   "source": [
    "vs.ModelComplexity(X_train, y_train)"
   ]
  },
  {
   "cell_type": "markdown",
   "metadata": {},
   "source": [
    "### Bias-Variance Tradeoff\n",
    "\n",
    "If we analize how the bias-variance vary with the maximun depth, we can infer that:"
   ]
  },
  {
   "cell_type": "markdown",
   "metadata": {},
   "source": [
    "- With the maximun depth of one, the graphic shows that the model does not return good score in neither training nor testing data, which is a symptom of underfitting and so, high bias. To improve performance, we should increase model's complexity, in this case increasing the max_depth hyperparameter to get better results.\n",
    "\n",
    "- With the maximun depth of ten, the graphic shows that the model learn perfectly well from training data (with a score close to one) and also returns poor results on test data, which is an indicator of overfitting, not being able to generalize well on new data. This is a problem of High Variance. To improve performance, we should decrease the model's complexity, in this case decreasing the max_depth hyperparameter to get better results."
   ]
  },
  {
   "cell_type": "markdown",
   "metadata": {},
   "source": [
    "### Best-Guess Optimal Model"
   ]
  },
  {
   "cell_type": "markdown",
   "metadata": {},
   "source": [
    "From the complexity curve, we can infer that the best maximum depth for the model is 4, as it is the one that yields the best validation score.\n",
    "\n",
    "In addition, for more depth although the training score increases, validation score tends to decrease which is a sign of overfitting."
   ]
  },
  {
   "cell_type": "markdown",
   "metadata": {},
   "source": [
    "-----\n",
    "\n",
    "## Evaluating Model Performance\n",
    "In this final section of the project, we will construct a model and make a prediction on the client's feature set using an optimized model from `fit_model`."
   ]
  },
  {
   "cell_type": "markdown",
   "metadata": {},
   "source": [
    "### Grid Search\n",
    "* What is the grid search technique?\n",
    "* How it can be applied to optimize a learning algorithm?"
   ]
  },
  {
   "cell_type": "markdown",
   "metadata": {},
   "source": [
    "The grid search technique exhaustively generates candidates from a grid of parameter values specified with the param_grid parameter, which is a dictionary with the values of the hyperparameters to evaluate. One eample can be:\n",
    "\n",
    "param_grid =  [\n",
    "  {'C': [1, 10, 100, 1000], 'kernel': ['linear']},\n",
    "  {'C': [1, 10, 100, 1000], 'gamma': [0.001, 0.0001], 'kernel': ['rbf']},\n",
    " ]\n",
    " \n",
    "In this example, two grids should be explored: one with a linear kernel an C values of [1,10,100,1000], and the second one with an RBF kernel, and the cross product of C values ranging in [1, 10, 100, 1000] and gamma values in [0.001, 0.0001].\n",
    "\n",
    "When fitting it on a dataset all the possible combinations of parameter values are evaluated and the best combination is retained."
   ]
  },
  {
   "cell_type": "markdown",
   "metadata": {},
   "source": [
    "### Cross-Validation\n",
    "\n",
    "* What is the k-fold cross-validation training technique? \n",
    "\n",
    "* What benefit does this technique provide for grid search when optimizing a model?"
   ]
  },
  {
   "cell_type": "markdown",
   "metadata": {},
   "source": [
    "K-fold cross-validation is a technique used for making sure that our model is well trained, without using the test set. It consist in splitting data into k partitions of equal size. For each partition i, we train the model on the remaining k-1 parameters and evaluate it on partition i. The final score is the average of the K scores obtained.\n",
    "\n",
    "When evaluating different hyperparameters for estimators, there is still a risk of overfitting on the test set because the parameters can be tweaked until the estimator performs optimally. This way, knowledge about the test set can “leak” into the model and evaluation metrics no longer report on generalization performance. To solve this problem, yet another part of the dataset can be held out as a so-called “validation set”: training proceeds on the training set, after which evaluation is done on the validation set, and when the experiment seems to be successful, final evaluation can be done on the test set.\n",
    "\n",
    "However, by partitioning the available data into three sets (training, validating and testing sets), we drastically reduce the number of samples which can be used for learning the model, and the resulting model may not be sufficiently well trained (underfitting).\n",
    "\n",
    "By using k-fold validation we make sure that the model uses all the training data available for tunning the model, it can be computationally expensive but allows to train models even if little data is available.\n",
    "\n",
    "The main purpose of k-fold validation is to get an unbiased estimate of model generalization on new data."
   ]
  },
  {
   "cell_type": "markdown",
   "metadata": {},
   "source": [
    "### Implementation: Fitting a Model\n",
    "The final implementation requires that we bring everything together and train a model using the **decision tree algorithm**. To ensure that we are producing an optimized model, we will train the model using the grid search technique to optimize the `'max_depth'` parameter for the decision tree. The `'max_depth'` parameter can be thought of as how many questions the decision tree algorithm is allowed to ask about the data before making a prediction. Decision trees are part of a class of algorithms called *supervised learning algorithms*.\n",
    "\n",
    "In addition, we will find your implementation is using `ShuffleSplit()` for an alternative form of cross-validation (see the `'cv_sets'` variable). The `ShuffleSplit()` implementation below will create 10 (`'n_splits'`) shuffled sets, and for each shuffle, 20% (`'test_size'`) of the data will be used as the *validation set*.\n"
   ]
  },
  {
   "cell_type": "code",
   "execution_count": 29,
   "metadata": {},
   "outputs": [],
   "source": [
    "# Import 'make_scorer', 'DecisionTreeRegressor', and 'GridSearchCV'\n",
    "from sklearn.tree import DecisionTreeRegressor\n",
    "from sklearn.metrics import make_scorer\n",
    "from sklearn.model_selection import GridSearchCV\n",
    "\n",
    "def fit_model(X, y):\n",
    "    \"\"\" Performs grid search over the 'max_depth' parameter for a \n",
    "        decision tree regressor trained on the input data [X, y]. \"\"\"\n",
    "    \n",
    "    # Create cross-validation sets from the training data\n",
    "    cv_sets = ShuffleSplit(n_splits = 10, test_size = 0.20, random_state = 0)\n",
    "\n",
    "    # Create a decision tree regressor object\n",
    "    regressor = DecisionTreeRegressor()\n",
    "\n",
    "    # Create a dictionary for the parameter 'max_depth' with a range from 1 to 10\n",
    "    params = {'max_depth':[1,2,3,4,5,6,7,8,9,10]}\n",
    "\n",
    "    # Transform 'performance_metric' into a scoring function using 'make_scorer' \n",
    "    scoring_fnc = make_scorer(performance_metric)\n",
    "\n",
    "    # Create the grid search cv object --> GridSearchCV()\n",
    "    # Make sure to include the right parameters in the object:\n",
    "    # (estimator, param_grid, scoring, cv) which have values 'regressor', 'params', 'scoring_fnc', and 'cv_sets' respectively.\n",
    "    grid = GridSearchCV(estimator=regressor, param_grid=params, scoring=scoring_fnc, cv=cv_sets)\n",
    "\n",
    "    # Fit the grid search object to the data to compute the optimal model\n",
    "    grid = grid.fit(X, y)\n",
    "\n",
    "    # Return the optimal model after fitting the data\n",
    "    return grid.best_estimator_"
   ]
  },
  {
   "cell_type": "markdown",
   "metadata": {},
   "source": [
    "### Making Predictions\n",
    "Once a model has been trained on a given set of data, it can now be used to make predictions on new sets of input data. In the case of a *decision tree regressor*, the model has learned *what the best questions to ask about the input data are*, and can respond with a prediction for the **target variable**. We can use these predictions to gain information about data where the value of the target variable is unknown — such as data the model was not trained on."
   ]
  },
  {
   "cell_type": "markdown",
   "metadata": {},
   "source": [
    "### Optimal Model\n",
    "\n",
    "* What maximum depth does the optimal model have? "
   ]
  },
  {
   "cell_type": "code",
   "execution_count": null,
   "metadata": {},
   "outputs": [],
   "source": [
    "# Fit the training data to the model using grid search\n",
    "reg = fit_model(X_train, y_train)\n",
    "\n",
    "# Produce the value for 'max_depth'\n",
    "print(\"Parameter 'max_depth' is {} for the optimal model.\".format(reg.get_params()['max_depth']))"
   ]
  },
  {
   "cell_type": "markdown",
   "metadata": {},
   "source": [
    "### Plot the result\n",
    "It can be seen that the result is not so good. The best result should be a line of x=y. One of the main reason is that the Decision Tree Regressor is only capible of doing 2^d dicisions. Which is a limited result compare to the real world problems."
   ]
  },
  {
   "cell_type": "code",
   "execution_count": 39,
   "metadata": {},
   "outputs": [
    {
     "name": "stdout",
     "output_type": "stream",
     "text": [
      "The r2 score is: 0.6751157168172534\n"
     ]
    },
    {
     "data": {
      "image/png": "[encoded data removed]",
      "text/plain": [
       "<Figure size 504x504 with 1 Axes>"
      ]
     },
     "metadata": {
      "needs_background": "light"
     },
     "output_type": "display_data"
    }
   ],
   "source": [
    "import matplotlib.pyplot as pl\n",
    "cv_sets = ShuffleSplit(n_splits = 10, test_size = 0.20, random_state = 0)\n",
    "\n",
    "# Create a decision tree regressor object\n",
    "regressor = DecisionTreeRegressor()\n",
    "\n",
    "# Create a dictionary for the parameter 'max_depth' with a range from 1 to 10\n",
    "params = {'max_depth':[1,2,3,4,5,6,7,8,9,10]}\n",
    "\n",
    "# Transform 'performance_metric' into a scoring function using 'make_scorer' \n",
    "scoring_fnc = make_scorer(performance_metric)\n",
    "\n",
    "# Create the grid search cv object --> GridSearchCV()\n",
    "# Make sure to include the right parameters in the object:\n",
    "# (estimator, param_grid, scoring, cv) which have values 'regressor', 'params', 'scoring_fnc', and 'cv_sets' respectively.\n",
    "grid = GridSearchCV(estimator=regressor, param_grid=params, scoring=scoring_fnc, cv=cv_sets)\n",
    "\n",
    "# Fit the grid search object to the data to compute the optimal model\n",
    "grid = grid.fit(X_train, y_train)\n",
    "\n",
    "result = grid.predict(X_test)\n",
    "\n",
    "score = performance_metric(y_test,result)\n",
    "\n",
    "print(\"The r2 score is:\", score)\n",
    "# Plot the validation curve\n",
    "pl.figure(figsize=(7, 7))\n",
    "pl.title('')\n",
    "pl.plot(y_test,result, 'o', color = 'r', label = 'result')\n",
    "# pl.plot(max_depth, test_mean, 'o-', color = 'g', label = 'Validation Score')\n",
    "# pl.fill_between(max_depth, train_mean - train_std, \\\n",
    "#     train_mean + train_std, alpha = 0.15, color = 'r')\n",
    "# pl.fill_between(max_depth, test_mean - test_std, \\\n",
    "#     test_mean + test_std, alpha = 0.15, color = 'g')\n",
    "\n",
    "# Visual aesthetics\n",
    "pl.legend(loc = 'lower right')\n",
    "pl.xlabel('True value')\n",
    "pl.ylabel('Result')\n",
    "# pl.ylim([-0.05,1.05])\n",
    "pl.show()"
   ]
  },
  {
   "cell_type": "markdown",
   "metadata": {},
   "source": [
    "### Predicting Selling Prices\n",
    "Imagine that we were a real estate agent in the Boston area looking to use this model to help price homes owned by our clients that they wish to sell. You have collected the following information from three of your clients:\n",
    "\n",
    "| Feature | Client 1 | Client 2 | Client 3 |\n",
    "| :---: | :---: | :---: | :---: |\n",
    "| Total number of rooms in home | 5 rooms | 4 rooms | 8 rooms |\n",
    "| Neighborhood poverty level (as %) | 17% | 32% | 3% |\n",
    "| Student-teacher ratio of nearby schools | 15-to-1 | 22-to-1 | 12-to-1 |\n",
    "\n",
    "* What price would we recommend each client sell his/her home at? \n",
    "* Do these prices seem reasonable given the values for the respective features? "
   ]
  },
  {
   "cell_type": "code",
   "execution_count": 31,
   "metadata": {},
   "outputs": [
    {
     "ename": "ValueError",
     "evalue": "Number of features of the model must match the input. Model n_features is 20 and input n_features is 3 ",
     "output_type": "error",
     "traceback": [
      "\u001b[1;31m---------------------------------------------------------------------------\u001b[0m",
      "\u001b[1;31mValueError\u001b[0m                                Traceback (most recent call last)",
      "\u001b[1;32m<ipython-input-31-8b13b0a2bc61>\u001b[0m in \u001b[0;36m<module>\u001b[1;34m\u001b[0m\n\u001b[0;32m      5\u001b[0m \u001b[1;33m\u001b[0m\u001b[0m\n\u001b[0;32m      6\u001b[0m \u001b[1;31m# Show predictions\u001b[0m\u001b[1;33m\u001b[0m\u001b[1;33m\u001b[0m\u001b[1;33m\u001b[0m\u001b[0m\n\u001b[1;32m----> 7\u001b[1;33m \u001b[1;32mfor\u001b[0m \u001b[0mi\u001b[0m\u001b[1;33m,\u001b[0m \u001b[0mprice\u001b[0m \u001b[1;32min\u001b[0m \u001b[0menumerate\u001b[0m\u001b[1;33m(\u001b[0m\u001b[0mreg\u001b[0m\u001b[1;33m.\u001b[0m\u001b[0mpredict\u001b[0m\u001b[1;33m(\u001b[0m\u001b[0mclient_data\u001b[0m\u001b[1;33m)\u001b[0m\u001b[1;33m)\u001b[0m\u001b[1;33m:\u001b[0m\u001b[1;33m\u001b[0m\u001b[1;33m\u001b[0m\u001b[0m\n\u001b[0m\u001b[0;32m      8\u001b[0m     \u001b[0mprint\u001b[0m\u001b[1;33m(\u001b[0m\u001b[1;34m\"Predicted selling price for Client {}'s home: ${:,.2f}\"\u001b[0m\u001b[1;33m.\u001b[0m\u001b[0mformat\u001b[0m\u001b[1;33m(\u001b[0m\u001b[0mi\u001b[0m\u001b[1;33m+\u001b[0m\u001b[1;36m1\u001b[0m\u001b[1;33m,\u001b[0m \u001b[0mprice\u001b[0m\u001b[1;33m)\u001b[0m\u001b[1;33m)\u001b[0m\u001b[1;33m\u001b[0m\u001b[1;33m\u001b[0m\u001b[0m\n",
      "\u001b[1;32mD:\\lib\\Miniconda3\\lib\\site-packages\\sklearn\\tree\\tree.py\u001b[0m in \u001b[0;36mpredict\u001b[1;34m(self, X, check_input)\u001b[0m\n\u001b[0;32m    414\u001b[0m         \"\"\"\n\u001b[0;32m    415\u001b[0m         \u001b[0mcheck_is_fitted\u001b[0m\u001b[1;33m(\u001b[0m\u001b[0mself\u001b[0m\u001b[1;33m,\u001b[0m \u001b[1;34m'tree_'\u001b[0m\u001b[1;33m)\u001b[0m\u001b[1;33m\u001b[0m\u001b[1;33m\u001b[0m\u001b[0m\n\u001b[1;32m--> 416\u001b[1;33m         \u001b[0mX\u001b[0m \u001b[1;33m=\u001b[0m \u001b[0mself\u001b[0m\u001b[1;33m.\u001b[0m\u001b[0m_validate_X_predict\u001b[0m\u001b[1;33m(\u001b[0m\u001b[0mX\u001b[0m\u001b[1;33m,\u001b[0m \u001b[0mcheck_input\u001b[0m\u001b[1;33m)\u001b[0m\u001b[1;33m\u001b[0m\u001b[1;33m\u001b[0m\u001b[0m\n\u001b[0m\u001b[0;32m    417\u001b[0m         \u001b[0mproba\u001b[0m \u001b[1;33m=\u001b[0m \u001b[0mself\u001b[0m\u001b[1;33m.\u001b[0m\u001b[0mtree_\u001b[0m\u001b[1;33m.\u001b[0m\u001b[0mpredict\u001b[0m\u001b[1;33m(\u001b[0m\u001b[0mX\u001b[0m\u001b[1;33m)\u001b[0m\u001b[1;33m\u001b[0m\u001b[1;33m\u001b[0m\u001b[0m\n\u001b[0;32m    418\u001b[0m         \u001b[0mn_samples\u001b[0m \u001b[1;33m=\u001b[0m \u001b[0mX\u001b[0m\u001b[1;33m.\u001b[0m\u001b[0mshape\u001b[0m\u001b[1;33m[\u001b[0m\u001b[1;36m0\u001b[0m\u001b[1;33m]\u001b[0m\u001b[1;33m\u001b[0m\u001b[1;33m\u001b[0m\u001b[0m\n",
      "\u001b[1;32mD:\\lib\\Miniconda3\\lib\\site-packages\\sklearn\\tree\\tree.py\u001b[0m in \u001b[0;36m_validate_X_predict\u001b[1;34m(self, X, check_input)\u001b[0m\n\u001b[0;32m    386\u001b[0m                              \u001b[1;34m\"match the input. Model n_features is %s and \"\u001b[0m\u001b[1;33m\u001b[0m\u001b[1;33m\u001b[0m\u001b[0m\n\u001b[0;32m    387\u001b[0m                              \u001b[1;34m\"input n_features is %s \"\u001b[0m\u001b[1;33m\u001b[0m\u001b[1;33m\u001b[0m\u001b[0m\n\u001b[1;32m--> 388\u001b[1;33m                              % (self.n_features_, n_features))\n\u001b[0m\u001b[0;32m    389\u001b[0m \u001b[1;33m\u001b[0m\u001b[0m\n\u001b[0;32m    390\u001b[0m         \u001b[1;32mreturn\u001b[0m \u001b[0mX\u001b[0m\u001b[1;33m\u001b[0m\u001b[1;33m\u001b[0m\u001b[0m\n",
      "\u001b[1;31mValueError\u001b[0m: Number of features of the model must match the input. Model n_features is 20 and input n_features is 3 "
     ]
    }
   ],
   "source": [
    "# Produce a matrix for client data\n",
    "client_data = [[5, 17, 15], # Client 1\n",
    "               [4, 32, 22], # Client 2\n",
    "               [8, 3, 12]]  # Client 3\n",
    "\n",
    "# Show predictions\n",
    "for i, price in enumerate(reg.predict(client_data)):\n",
    "    print(\"Predicted selling price for Client {}'s home: ${:,.2f}\".format(i+1, price))"
   ]
  },
  {
   "cell_type": "markdown",
   "metadata": {},
   "source": [
    "**Answer: **\n",
    "\n",
    "The predicted selling prices are:\n",
    "\n",
    "- For Client 1's home: $403,025.00\n",
    "\n",
    "- For Client 2's home: $237,478.72\n",
    "\n",
    "- For Client 3's home: $931,636.36\n",
    "\n",
    "From question 1, we obtained the following statistics:\n",
    "\n",
    "- Minimum price: $105000.0\n",
    "\n",
    "- Maximum price: $1024800.0\n",
    "\n",
    "- Mean price: $454342.9447852761\n",
    "\n",
    "- Median price $438900.0\n",
    "\n",
    "- Standard deviation of prices: $165340.27765266786\n",
    "\n",
    "Given this values, we can conclude:\n",
    "\n",
    "- Selling price for client 3 is near the million dollars, which is near the maximum of the dataset. This is a reasonable price because of its features (8 rooms, very low poverty level and low student-teacher ratio), the house may be in a wealthy neighborhood.\n",
    "\n",
    "- Selling price for client 2 is the lowest of the three and given its features is reasonable as it is near the minimum of the dataset.\n",
    "\n",
    "- For client 1, we can see that its features are intermediate between the latter 2, and therefore, its price is quite near the mean and median.\n",
    "\n",
    "As stated on Question 1:\n",
    "\n",
    "- 'RM', has a directy proportional relationship with the dependent variable 'Prices'.\n",
    "- In contrast, 'LSTAT' and 'PTRATIO' have a inversely proportional relationship with the dependent variable 'PRICES'."
   ]
  },
  {
   "cell_type": "markdown",
   "metadata": {},
   "source": [
    "### Sensitivity\n",
    "An optimal model is not necessarily a robust model. Sometimes, a model is either too complex or too simple to sufficiently generalize to new data. Sometimes, a model could use a learning algorithm that is not appropriate for the structure of the data given. Other times, the data itself could be too noisy or contain too few samples to allow a model to adequately capture the target variable — i.e., the model is underfitted. \n",
    "\n",
    "**The code cell below run the `fit_model` function ten times with different training and testing sets to see how the prediction for a specific client changes with respect to the data it's trained on.**"
   ]
  },
  {
   "cell_type": "code",
   "execution_count": 13,
   "metadata": {
    "scrolled": true
   },
   "outputs": [
    {
     "name": "stdout",
     "output_type": "stream",
     "text": [
      "Trial 1: $391,183.33\n",
      "Trial 2: $419,700.00\n",
      "Trial 3: $415,800.00\n",
      "Trial 4: $420,622.22\n",
      "Trial 5: $413,334.78\n",
      "Trial 6: $411,931.58\n",
      "Trial 7: $399,663.16\n",
      "Trial 8: $407,232.00\n",
      "Trial 9: $351,577.61\n",
      "Trial 10: $413,700.00\n",
      "\n",
      "Range in prices: $69,044.61\n"
     ]
    }
   ],
   "source": [
    "vs.PredictTrials(features, prices, fit_model, client_data)"
   ]
  },
  {
   "cell_type": "markdown",
   "metadata": {},
   "source": [
    "### Applicability\n",
    "\n",
    "Now, we use these results to discuss whether the constructed model should or should not be used in a real-world setting. Some questions that are worth to answer: \n",
    "\n",
    "- How relevant today is data that was collected from 1978? How important is inflation?\n",
    "- Are the features present in the data sufficient to describe a home? Do you think factors like quality of apppliances in the home, square feet of the plot area, presence of pool or not etc should factor in?\n",
    "- Is the model robust enough to make consistent predictions?\n",
    "- Would data collected in an urban city like Boston be applicable in a rural city?\n",
    "- Is it fair to judge the price of an individual home based on the characteristics of the entire neighborhood?"
   ]
  },
  {
   "cell_type": "markdown",
   "metadata": {},
   "source": [
    "**Answer: **\n",
    "\n",
    "We obtained a range in prices of nearly 70k$, I believe that this is a quite large deviation as it represents approximately a 17% of the median value of house prices. Because of this, the model should not be used in a real world setting.\n",
    "\n",
    "- Data collected from 1978 is not of much value in today's world, society and economics have changed so much and in addtion, inflation has made a great impact on the prices.\n",
    "\n",
    "- The dataset considered is quite limited, there are a lot of features like the size of the house in square feet, the presence of pool or not and others, that are very relevant when considering a house price.\n",
    "\n",
    "- Given the high variance on the prince range, we can assure that it is not a robust model and, therefore, not appropiate for making predictions.\n",
    "\n",
    "- Data collected from a big urban city like Boston would not be applicable in a rural city, as for equal value of feaures prices are much higher in the urban area.\n",
    "\n",
    "- In general it is not fair to estimate or predict the price of an indivual home based on the features of the entire neighborhood. In the same neighborhood there can be huge differences in prices."
   ]
  }
 ],
 "metadata": {
  "anaconda-cloud": {},
  "kernelspec": {
   "display_name": "Python 3",
   "language": "python",
   "name": "python3"
  },
  "language_info": {
   "codemirror_mode": {
    "name": "ipython",
    "version": 3
   },
   "file_extension": ".py",
   "mimetype": "text/x-python",
   "name": "python",
   "nbconvert_exporter": "python",
   "pygments_lexer": "ipython3",
   "version": "3.7.1"
  }
 },
 "nbformat": 4,
 "nbformat_minor": 1
}
